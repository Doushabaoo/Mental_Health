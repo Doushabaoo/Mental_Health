{
 "cells": [
  {
   "cell_type": "code",
   "execution_count": null,
   "id": "8b1f4ef4",
   "metadata": {},
   "outputs": [],
   "source": [
    "#sns.displot(train, x=\"Pressure\", hue=\"Depression\")\n",
    "#sns.displot(train, x=\"Satisfaction\", hue=\"Depression\")"
   ]
  }
 ],
 "metadata": {
  "language_info": {
   "name": "python"
  }
 },
 "nbformat": 4,
 "nbformat_minor": 5
}
