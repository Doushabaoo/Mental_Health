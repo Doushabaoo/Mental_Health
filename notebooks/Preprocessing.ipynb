{
 "cells": [
  {
   "cell_type": "markdown",
   "id": "a23ed1b2",
   "metadata": {},
   "source": [
    "# Mental Health Data Preprocessing"
   ]
  },
  {
   "cell_type": "code",
   "execution_count": 8,
   "id": "588447c7",
   "metadata": {},
   "outputs": [],
   "source": [
    "import pandas as pd\n",
    "import numpy as np\n",
    "from sklearn.compose import ColumnTransformer\n",
    "from sklearn.pipeline import Pipeline\n",
    "from sklearn.preprocessing import OneHotEncoder, FunctionTransformer\n",
    "from sklearn.model_selection import train_test_split\n",
    "\n",
    "import sys\n",
    "sys.path.append(\"../src\") \n",
    "from preprocess import *"
   ]
  },
  {
   "cell_type": "code",
   "execution_count": 9,
   "id": "05af9847",
   "metadata": {},
   "outputs": [],
   "source": [
    "train_path = \"../data/raw/train.csv\"\n",
    "test_path = \"../data/raw/test.csv\"\n",
    "\n",
    "train = pd.read_csv(train_path)\n",
    "test = pd.read_csv(test_path)"
   ]
  },
  {
   "cell_type": "markdown",
   "id": "09681f35",
   "metadata": {},
   "source": [
    "### Train, validation set split"
   ]
  },
  {
   "cell_type": "code",
   "execution_count": 10,
   "id": "0a74bc2d",
   "metadata": {},
   "outputs": [
    {
     "name": "stdout",
     "output_type": "stream",
     "text": [
      "Train: (112560, 19), Validation: (28140, 19)\n"
     ]
    }
   ],
   "source": [
    "# Stratified split to preserve class balance\n",
    "X = train\n",
    "y = X.pop(\"Depression\")\n",
    "\n",
    "X_train, X_val, y_train, y_val = train_test_split(\n",
    "    X, y, \n",
    "    test_size=0.2, \n",
    "    random_state=0,  # For reproducibility\n",
    "    stratify=y       # Critical for imbalanced data\n",
    ")\n",
    "\n",
    "print(f\"Train: {X_train.shape}, Validation: {X_val.shape}\")"
   ]
  },
  {
   "cell_type": "markdown",
   "id": "8f4dca86",
   "metadata": {},
   "source": [
    "### Pipeline"
   ]
  },
  {
   "cell_type": "code",
   "execution_count": 11,
   "id": "a92d60d8",
   "metadata": {},
   "outputs": [],
   "source": [
    "# Columns to drop \n",
    "drop_cols = [\n",
    "    \"Name\", \"City\", \"Profession\",  # Identifiers\n",
    "    \"Academic Pressure\", \"Work Pressure\",  \n",
    "    \"Study Satisfaction\", \"Job Satisfaction\", # Replaced by engineered features\n",
    "    \"Degree\"  \n",
    "]\n",
    "\n",
    "# Columns for one-hot encoding\n",
    "categorical_cols = [\n",
    "    \"Gender\",\n",
    "    \"Working Professional or Student\",\n",
    "    \"Sleep Duration\", \n",
    "    \"Dietary Habits\",\n",
    "    \"Have you ever had suicidal thoughts ?\",\n",
    "    \"Family History of Mental Illness\"\n",
    "]\n",
    "\n",
    "# One hot encoder transformer definition\n",
    "categorical_transformer = ColumnTransformer(\n",
    "    transformers=[\n",
    "        (\"onehot\", OneHotEncoder(handle_unknown=\"ignore\"), categorical_cols)\n",
    "    ],\n",
    "    remainder=\"passthrough\"  # Keeps non-encoded columns\n",
    ")\n",
    "\n",
    "# Pipeline definition\n",
    "preprocessor = Pipeline(steps=[\n",
    "    (\"pressure\", FunctionTransformer(assign_pressure)),       # Creates \"Pressure\"\n",
    "    (\"satisfaction\", FunctionTransformer(assign_satisfaction)), # Creates \"Satisfaction\"\n",
    "    (\"impute\", GroupImputer([\"Pressure\", \"Satisfaction\", \"Financial Stress\"])),\n",
    "    (\"pressure_ratio\", FunctionTransformer(add_pressure_ratio)),\n",
    "    (\"diet_clean\", FunctionTransformer(replace_diet_habits)),\n",
    "    (\"sleep_clean\", FunctionTransformer(replace_sleep_duration)),\n",
    "    (\"drop_cols\", FunctionTransformer(lambda X: X.drop(columns = drop_cols))),\n",
    "    (\"encode\", categorical_transformer)    # One-hot encoding\n",
    "])"
   ]
  },
  {
   "cell_type": "code",
   "execution_count": 12,
   "id": "05a159b8",
   "metadata": {},
   "outputs": [],
   "source": [
    "# Fit the preprocessor on training data\n",
    "preprocessor.fit(X_train)\n",
    "\n",
    "# Transform all datasets\n",
    "X_train_transformed = preprocessor.transform(X_train)\n",
    "X_val_transformed = preprocessor.transform(X_val)\n",
    "test_transformed = preprocessor.transform(test)\n",
    "\n",
    "# Get feature names after one-hot encoding\n",
    "cat_features = preprocessor.named_steps[\"encode\"] \\\n",
    "                 .named_transformers_[\"onehot\"] \\\n",
    "                 .get_feature_names_out(categorical_cols) \n",
    "\n",
    "all_features = np.concatenate([\n",
    "    cat_features,\n",
    "    [col for col in train.columns if col not in drop_cols and col not in categorical_cols],\n",
    "    [\"Pressure\", \"Satisfaction\",\"Pressure_Satisfaction_Ratio\"]\n",
    "])\n",
    "\n",
    "final_train = pd.DataFrame(X_train_transformed, columns=all_features)\n",
    "final_val = pd.DataFrame(X_val_transformed, columns=all_features)\n",
    "final_test = pd.DataFrame(test_transformed, columns=all_features)"
   ]
  },
  {
   "cell_type": "markdown",
   "id": "7dba2274",
   "metadata": {},
   "source": [
    "### Validation of new feature"
   ]
  },
  {
   "cell_type": "code",
   "execution_count": 13,
   "id": "bcd8ddbd",
   "metadata": {},
   "outputs": [
    {
     "name": "stdout",
     "output_type": "stream",
     "text": [
      "Baseline CV Accuracy: 0.93571 ± 0.00152\n",
      "With Ratio CV Accuracy: 0.93536 ± 0.00092\n"
     ]
    }
   ],
   "source": [
    "# Validation of new feature\n",
    "from sklearn.model_selection import cross_val_score\n",
    "from xgboost import XGBClassifier\n",
    "\n",
    "# Create two versions of pipeline\n",
    "pipe_baseline = Pipeline([step for step in preprocessor.steps if step[0] != \"pressure_ratio\"])\n",
    "pipe_with_ratio = preprocessor  # includes the new feature\n",
    "\n",
    "# Quick validation using cross-validation\n",
    "baseline_scores = cross_val_score(\n",
    "    XGBClassifier(random_state=0),\n",
    "    pipe_baseline.fit_transform(X_train),\n",
    "    y_train,\n",
    "    cv=3,\n",
    "    scoring='accuracy'\n",
    ")\n",
    "\n",
    "ratio_scores = cross_val_score(\n",
    "    XGBClassifier(random_state=0),\n",
    "    pipe_with_ratio.fit_transform(X_train),\n",
    "    y_train,\n",
    "    cv=3,\n",
    "    scoring='accuracy'\n",
    ")\n",
    "\n",
    "print(f\"Baseline CV Accuracy: {baseline_scores.mean():.5f} ± {baseline_scores.std():.5f}\")\n",
    "print(f\"With Ratio CV Accuracy: {ratio_scores.mean():.5f} ± {ratio_scores.std():.5f}\")"
   ]
  },
  {
   "cell_type": "markdown",
   "id": "c1813ce5",
   "metadata": {},
   "source": [
    "### Save processed data"
   ]
  },
  {
   "cell_type": "code",
   "execution_count": 14,
   "id": "44bd1737",
   "metadata": {},
   "outputs": [],
   "source": [
    "processed_train = pd.concat([final_train.reset_index(drop=True), \n",
    "                             y_train.reset_index(drop=True).rename(\"Depression\")], axis=1)  \n",
    "processed_train.to_csv(\"../data/processed/processed_train.csv\", index=False)\n",
    "\n",
    "processed_val = pd.concat([final_val.reset_index(drop=True), \n",
    "                           y_val.reset_index(drop=True).rename(\"Depression\")], axis=1)  \n",
    "processed_val.to_csv(\"../data/processed/processed_val.csv\", index=False)  \n",
    "\n",
    "final_test.to_csv(\"../data/processed/processed_test.csv\", index=False)  "
   ]
  },
  {
   "cell_type": "markdown",
   "id": "abfc7bc2",
   "metadata": {},
   "source": [
    "## Preprocessing Summary\n",
    "\n",
    "### Key Transformations:\n",
    "1. **Engineered Features**:\n",
    "   - **Pressure**: Unified academic/work pressure\n",
    "   - **Satisfaction**: Unified study/job satisfaction\n",
    "   - **Pressure_Satisfaction_Ratio**: Ratio of Pressura and Satisfaction\n",
    "\n",
    "2. **Handled Missing Data**:\n",
    "   - Group-specific median imputation for **Pressure**, **Satisfaction**, **Financial Stress**\n",
    "\n",
    "3. **Categorical Encoding**:\n",
    "   - One-hot for categorical features (Gender, Profession status, etc.)\n"
   ]
  }
 ],
 "metadata": {
  "kernelspec": {
   "display_name": "Python 3",
   "language": "python",
   "name": "python3"
  },
  "language_info": {
   "codemirror_mode": {
    "name": "ipython",
    "version": 3
   },
   "file_extension": ".py",
   "mimetype": "text/x-python",
   "name": "python",
   "nbconvert_exporter": "python",
   "pygments_lexer": "ipython3",
   "version": "3.12.6"
  }
 },
 "nbformat": 4,
 "nbformat_minor": 5
}
